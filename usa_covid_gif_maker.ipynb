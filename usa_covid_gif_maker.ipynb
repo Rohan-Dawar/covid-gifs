{
  "nbformat": 4,
  "nbformat_minor": 0,
  "metadata": {
    "colab": {
      "name": "usa-covid-gif-maker.ipynb",
      "provenance": [],
      "collapsed_sections": [],
      "include_colab_link": true
    },
    "kernelspec": {
      "display_name": "Python 3",
      "language": "python",
      "name": "python3"
    },
    "language_info": {
      "codemirror_mode": {
        "name": "ipython",
        "version": 3
      },
      "file_extension": ".py",
      "mimetype": "text/x-python",
      "name": "python",
      "nbconvert_exporter": "python",
      "pygments_lexer": "ipython3",
      "version": "3.8.6"
    }
  },
  "cells": [
    {
      "cell_type": "markdown",
      "metadata": {
        "id": "view-in-github",
        "colab_type": "text"
      },
      "source": [
        "<a href=\"https://colab.research.google.com/github/Rohan-Dawar/covid-gifs/blob/main/usa_covid_gif_maker.ipynb\" target=\"_parent\"><img src=\"https://colab.research.google.com/assets/colab-badge.svg\" alt=\"Open In Colab\"/></a>"
      ]
    },
    {
      "cell_type": "markdown",
      "metadata": {
        "id": "2O3i8KgnAtEC"
      },
      "source": [
        "## **COVID-19 in USA GIF Maker:**\r\n",
        "\r\n",
        "### **What this script does**:\r\n",
        "#### This script creates .gif files from a series of individual .png files\r\n",
        "#### These .png files correspond to daily statistics sourced from the [NYTimes GitHub bot](https://github.com/nytimes/covid-19-data)\r\n",
        "#### Functionality is implemented to visualize the USA by state or county, and by raw numbers or rates\r\n",
        "\r\n",
        "### **What is being actively worked on**:\r\n",
        "#### 1. Standardizing image size in the png loop\r\n",
        "#### 2. NYC borough dispersion\r\n",
        "#### 3. Kansas city and Joplin, MO dispersion\r\n",
        "#### 4. Rates vs. Raw functionality in main()\r\n",
        "#### 5. Alaska & Hawaii insets\r\n",
        "#### 6. sub=0 (state) visualization in main()\r\n",
        "#### 7. Unknown county to average statewide dispersion\r\n"
      ]
    },
    {
      "cell_type": "markdown",
      "metadata": {
        "id": "qMVmyRED-zPU"
      },
      "source": [
        "## Requirements"
      ]
    },
    {
      "cell_type": "code",
      "metadata": {
        "colab": {
          "base_uri": "https://localhost:8080/"
        },
        "id": "GQM_sm9a-zPV",
        "scrolled": true,
        "outputId": "13536aad-3b6a-4601-8d33-e002c5baa809"
      },
      "source": [
        "!pip install geopandas\n",
        "!pip install descartes\n",
        "!pip install pygifsicle\n",
        "!sudo apt-get install gifsicle"
      ],
      "execution_count": null,
      "outputs": [
        {
          "output_type": "stream",
          "text": [
            "Collecting geopandas\n",
            "\u001b[?25l  Downloading https://files.pythonhosted.org/packages/f7/a4/e66aafbefcbb717813bf3a355c8c4fc3ed04ea1dd7feb2920f2f4f868921/geopandas-0.8.1-py2.py3-none-any.whl (962kB)\n",
            "\u001b[K     |████████████████████████████████| 972kB 6.1MB/s \n",
            "\u001b[?25hCollecting pyproj>=2.2.0\n",
            "\u001b[?25l  Downloading https://files.pythonhosted.org/packages/e4/ab/280e80a67cfc109d15428c0ec56391fc03a65857b7727cf4e6e6f99a4204/pyproj-3.0.0.post1-cp36-cp36m-manylinux2010_x86_64.whl (6.4MB)\n",
            "\u001b[K     |████████████████████████████████| 6.5MB 30.2MB/s \n",
            "\u001b[?25hCollecting fiona\n",
            "\u001b[?25l  Downloading https://files.pythonhosted.org/packages/37/94/4910fd55246c1d963727b03885ead6ef1cd3748a465f7b0239ab25dfc9a3/Fiona-1.8.18-cp36-cp36m-manylinux1_x86_64.whl (14.8MB)\n",
            "\u001b[K     |████████████████████████████████| 14.8MB 317kB/s \n",
            "\u001b[?25hRequirement already satisfied: shapely in /usr/local/lib/python3.6/dist-packages (from geopandas) (1.7.1)\n",
            "Requirement already satisfied: pandas>=0.23.0 in /usr/local/lib/python3.6/dist-packages (from geopandas) (1.1.5)\n",
            "Requirement already satisfied: certifi in /usr/local/lib/python3.6/dist-packages (from pyproj>=2.2.0->geopandas) (2020.12.5)\n",
            "Collecting munch\n",
            "  Downloading https://files.pythonhosted.org/packages/cc/ab/85d8da5c9a45e072301beb37ad7f833cd344e04c817d97e0cc75681d248f/munch-2.5.0-py2.py3-none-any.whl\n",
            "Requirement already satisfied: click<8,>=4.0 in /usr/local/lib/python3.6/dist-packages (from fiona->geopandas) (7.1.2)\n",
            "Collecting cligj>=0.5\n",
            "  Downloading https://files.pythonhosted.org/packages/42/1e/947eadf10d6804bf276eb8a038bd5307996dceaaa41cfd21b7a15ec62f5d/cligj-0.7.1-py3-none-any.whl\n",
            "Requirement already satisfied: six>=1.7 in /usr/local/lib/python3.6/dist-packages (from fiona->geopandas) (1.15.0)\n",
            "Requirement already satisfied: attrs>=17 in /usr/local/lib/python3.6/dist-packages (from fiona->geopandas) (20.3.0)\n",
            "Collecting click-plugins>=1.0\n",
            "  Downloading https://files.pythonhosted.org/packages/e9/da/824b92d9942f4e472702488857914bdd50f73021efea15b4cad9aca8ecef/click_plugins-1.1.1-py2.py3-none-any.whl\n",
            "Requirement already satisfied: numpy>=1.15.4 in /usr/local/lib/python3.6/dist-packages (from pandas>=0.23.0->geopandas) (1.19.5)\n",
            "Requirement already satisfied: pytz>=2017.2 in /usr/local/lib/python3.6/dist-packages (from pandas>=0.23.0->geopandas) (2018.9)\n",
            "Requirement already satisfied: python-dateutil>=2.7.3 in /usr/local/lib/python3.6/dist-packages (from pandas>=0.23.0->geopandas) (2.8.1)\n",
            "Installing collected packages: pyproj, munch, cligj, click-plugins, fiona, geopandas\n",
            "Successfully installed click-plugins-1.1.1 cligj-0.7.1 fiona-1.8.18 geopandas-0.8.1 munch-2.5.0 pyproj-3.0.0.post1\n",
            "Requirement already satisfied: descartes in /usr/local/lib/python3.6/dist-packages (1.1.0)\n",
            "Requirement already satisfied: matplotlib in /usr/local/lib/python3.6/dist-packages (from descartes) (3.2.2)\n",
            "Requirement already satisfied: kiwisolver>=1.0.1 in /usr/local/lib/python3.6/dist-packages (from matplotlib->descartes) (1.3.1)\n",
            "Requirement already satisfied: numpy>=1.11 in /usr/local/lib/python3.6/dist-packages (from matplotlib->descartes) (1.19.5)\n",
            "Requirement already satisfied: pyparsing!=2.0.4,!=2.1.2,!=2.1.6,>=2.0.1 in /usr/local/lib/python3.6/dist-packages (from matplotlib->descartes) (2.4.7)\n",
            "Requirement already satisfied: cycler>=0.10 in /usr/local/lib/python3.6/dist-packages (from matplotlib->descartes) (0.10.0)\n",
            "Requirement already satisfied: python-dateutil>=2.1 in /usr/local/lib/python3.6/dist-packages (from matplotlib->descartes) (2.8.1)\n",
            "Requirement already satisfied: six in /usr/local/lib/python3.6/dist-packages (from cycler>=0.10->matplotlib->descartes) (1.15.0)\n",
            "Collecting pygifsicle\n",
            "  Downloading https://files.pythonhosted.org/packages/09/23/7adf797d3a65f568bb96e85b1a7ad046cc9b78be627df75927b83d6d6323/pygifsicle-1.0.2.tar.gz\n",
            "Building wheels for collected packages: pygifsicle\n",
            "  Building wheel for pygifsicle (setup.py) ... \u001b[?25l\u001b[?25hdone\n",
            "  Created wheel for pygifsicle: filename=pygifsicle-1.0.2-cp36-none-any.whl size=4518 sha256=355a7edbdd95c24e4a74ec820b28302be34e57f2e58af4105141630fef93797e\n",
            "  Stored in directory: /root/.cache/pip/wheels/7d/9a/33/113116a2b70d0f359bdafc3ee5270bf6f73f0d8bea06907815\n",
            "Successfully built pygifsicle\n",
            "Installing collected packages: pygifsicle\n",
            "Successfully installed pygifsicle-1.0.2\n",
            "Reading package lists... Done\n",
            "Building dependency tree       \n",
            "Reading state information... Done\n",
            "The following NEW packages will be installed:\n",
            "  gifsicle\n",
            "0 upgraded, 1 newly installed, 0 to remove and 16 not upgraded.\n",
            "Need to get 134 kB of archives.\n",
            "After this operation, 385 kB of additional disk space will be used.\n",
            "Get:1 http://archive.ubuntu.com/ubuntu bionic/universe amd64 gifsicle amd64 1.91-2 [134 kB]\n",
            "Fetched 134 kB in 0s (268 kB/s)\n",
            "debconf: unable to initialize frontend: Dialog\n",
            "debconf: (No usable dialog-like program is installed, so the dialog based frontend cannot be used. at /usr/share/perl5/Debconf/FrontEnd/Dialog.pm line 76, <> line 1.)\n",
            "debconf: falling back to frontend: Readline\n",
            "debconf: unable to initialize frontend: Readline\n",
            "debconf: (This frontend requires a controlling tty.)\n",
            "debconf: falling back to frontend: Teletype\n",
            "dpkg-preconfigure: unable to re-open stdin: \n",
            "Selecting previously unselected package gifsicle.\n",
            "(Reading database ... 145483 files and directories currently installed.)\n",
            "Preparing to unpack .../gifsicle_1.91-2_amd64.deb ...\n",
            "Unpacking gifsicle (1.91-2) ...\n",
            "Setting up gifsicle (1.91-2) ...\n",
            "Processing triggers for man-db (2.8.3-2ubuntu0.1) ...\n"
          ],
          "name": "stdout"
        }
      ]
    },
    {
      "cell_type": "markdown",
      "metadata": {
        "id": "HZ8H6EO7sDla"
      },
      "source": [
        "## Dependencies"
      ]
    },
    {
      "cell_type": "code",
      "metadata": {
        "id": "WkzOHZ8z-zPW"
      },
      "source": [
        "import geopandas as gpd\n",
        "import pandas as pd\n",
        "import descartes\n",
        "import matplotlib.pyplot as plt\n",
        "import requests, io, os\n",
        "\n",
        "from IPython.display import clear_output\n",
        "\n",
        "from zipfile import ZipFile as zzip\n",
        "from timeit import default_timer as timer\n",
        "\n",
        "import imageio\n",
        "from pygifsicle import optimize\n",
        "\n",
        "from PIL import Image"
      ],
      "execution_count": null,
      "outputs": []
    },
    {
      "cell_type": "markdown",
      "metadata": {
        "id": "wQOrL3Lu-zPX"
      },
      "source": [
        "## Auto Grab Shapefile"
      ]
    },
    {
      "cell_type": "code",
      "metadata": {
        "id": "cJbM9ENDkdZ5"
      },
      "source": [
        "def grabSF(SFURL):\r\n",
        "  \"\"\" Takes the URL to the relevant shapefile (SFURL) and returns a geodataframe to be used in the main function\r\n",
        "  \"\"\"\r\n",
        "\r\n",
        "  r = requests.get(SFURL)\r\n",
        "  filename = SFURL.split('/')[-1]\r\n",
        "  fp = \"shapefile_data\"\r\n",
        "  if not os.path.isdir(fp):\r\n",
        "      os.mkdir(fp)\r\n",
        "\r\n",
        "  fp = f'{fp}/'\r\n",
        "  with open(f\"{fp}/\"+filename, \"wb\") as file:\r\n",
        "      file.write(r.content)\r\n",
        "\r\n",
        "  foldername = \"contents\"\r\n",
        "  if not os.path.exists(fp+foldername):\r\n",
        "    with zzip(fp+filename, 'r') as file:\r\n",
        "            path = fp+foldername\r\n",
        "            os.mkdir(path)\r\n",
        "            file.extractall(fp+foldername)\r\n",
        "\r\n",
        "  shapefile = filename.split('.')[0]+'.shp'\r\n",
        "  geo_df = gpd.read_file(fp+foldername+'/'+shapefile)\r\n",
        "  \r\n",
        "  covid_geodf = geo_df.copy().drop(labels=['STATEFP','COUNTYFP','COUNTYNS','AFFGEOID','LSAD','ALAND','AWATER'],axis=1)\r\n",
        "  covid_geodf['GEOID'] = covid_geodf['GEOID'].astype(int)\r\n",
        "  covid_geodf = covid_geodf.rename(columns={\"GEOID\": \"fips\"})\r\n",
        "\r\n",
        "  return covid_geodf"
      ],
      "execution_count": null,
      "outputs": []
    },
    {
      "cell_type": "markdown",
      "metadata": {
        "id": "oMxzgsddc7K1"
      },
      "source": [
        "## State/County Population Data\r\n",
        "\r\n",
        "Source: \r\n",
        "\r\n",
        "https://www.census.gov/data/datasets/time-series/demo/popest/2010s-counties-total.html\r\n",
        "\r\n",
        "https://www2.census.gov/programs-surveys/popest/datasets/2010-2019/state/detail/SCPRC-EST2019-18+POP-RES.csv"
      ]
    },
    {
      "cell_type": "code",
      "metadata": {
        "id": "HIqs8TosAdlR"
      },
      "source": [
        "def popCsvToDf(sub, censuscsv):\r\n",
        "  \"\"\" Takes a relevant .csv census data file and returns a population dataframe to be used in the main function\r\n",
        "  \"\"\"\r\n",
        "\r\n",
        "  pop_df = pd.read_csv(censuscsv, encoding='latin-1')\r\n",
        "\r\n",
        "  if sub == 0: #state\r\n",
        "    pop_df = pop_df[['SUMLEV', 'STATE', 'COUNTY', 'POPESTIMATE2015']].copy()\r\n",
        "    pop_df = pop_df[pop_df['SUMLEV'] != 40]\r\n",
        "    pop_df['fips'] = pop_df['STATE'].astype(str) + pop_df['COUNTY'].astype(str).str.zfill(3)\r\n",
        "    pop_df.sort_values(by=['POPESTIMATE2015'])\r\n",
        "    pop_df['fips'] = pd.to_numeric(pop_df[\"fips\"])\r\n",
        "    return pop_df\r\n",
        "\r\n",
        "  elif sub == 1:\r\n",
        "    pop_df = pop_df[['SUMLEV', 'STATE', 'COUNTY', 'POPESTIMATE2015']].copy()\r\n",
        "    pop_df = pop_df[pop_df['SUMLEV'] != 40]\r\n",
        "    pop_df['fips'] = pop_df['STATE'].astype(str) + pop_df['COUNTY'].astype(str).str.zfill(3)\r\n",
        "    pop_df.sort_values(by=['POPESTIMATE2015'])\r\n",
        "    pop_df['fips'] = pd.to_numeric(pop_df[\"fips\"])\r\n",
        "    return pop_df"
      ],
      "execution_count": null,
      "outputs": []
    },
    {
      "cell_type": "markdown",
      "metadata": {
        "id": "BBJ8ZfsY-zPb"
      },
      "source": [
        "## Assign Covid Data to State/County"
      ]
    },
    {
      "cell_type": "code",
      "metadata": {
        "id": "tFiLrFka-zPb"
      },
      "source": [
        "def save_map_img(df, date, col):\n",
        "  \"\"\" Takes a geodataframe, date and column and generates a map image of the column's data on the specified date\n",
        "  \"\"\"\n",
        "\n",
        "  if not os.path.exists(\"mappng\"):\n",
        "    os.mkdir(\"mappng\")\n",
        "    \n",
        "  img = df.plot(figsize=(16, 16), column=col, cmap='Reds', legend=True,\n",
        "                      legend_kwds={'label': \"Percent (%)\",\n",
        "                                  'orientation': \"horizontal\",\n",
        "                                  'pad': 0.01,\n",
        "                                  'format': \"%.0f\"})\n",
        "\n",
        "  img.set_xlim(-127,-66);\n",
        "  img.set_ylim(24,50);\n",
        "  img.set_title(\"% Of County Actively Infected with COVID-19, USA\", fontsize=22);\n",
        "  img.set_xticks([0])\n",
        "  img.set_yticks([0])\n",
        "  img.annotate(f\"{date}\", xy=(-82,47), fontsize=24);\n",
        "  img.annotate(\"Created by Rohan Dawar\", xy=(-120,27), fontsize=18)\n",
        "  img.annotate(\"www.rohandawar.com\", xy=(-120,26), fontsize=18)\n",
        "  img.axis(\"off\")\n",
        "  \n",
        "  img.figure.savefig(fname=f\"mappng/{date}\", bbox_inches='tight', pad_inches=0, dpi=80)\n",
        "  plt.close('all')"
      ],
      "execution_count": null,
      "outputs": []
    },
    {
      "cell_type": "code",
      "metadata": {
        "id": "YNNqDYQU-zPb"
      },
      "source": [
        "def covidDf(sub, covidcsv):\n",
        "  \"\"\" Takes relevant .csv with covid-19 data and produces a dataframe\n",
        "  \"\"\"\n",
        "\n",
        "  r = requests.get(covidcsv)\n",
        "  csv = r.content\n",
        "  \n",
        "  df = pd.read_csv(io.StringIO(csv.decode('utf-8')))\n",
        "  \n",
        "  if sub == 0: #state\n",
        "    return df\n",
        "\n",
        "  elif sub == 1: #county\n",
        "    df = df[df['county'] != \"Unknown\"]\n",
        "    df.loc[df['county'] == \"New York City\", 'fips'] = 36061\n",
        "    return df\n",
        "\n",
        "# df = df[df['county'] != \"New York City\"]\n",
        "# df = df[df['county'] != \"Kansas City\"]\n",
        "# df = df[df['county'] != \"Joplin\"]\n",
        "\n",
        "# df[df['date'] == '2020-03-01']\n",
        "\n",
        "# nulldf = df[df['fips'].isnull()]\n",
        "# nulldf1 = nulldf[nulldf['county'] != 'New York City'] #fips -> 36061\n",
        "# nulldf2 = nulldf1[nulldf1['county'] != 'Kansas City']\n",
        "# nulldf3 = nulldf2[nulldf2['county'] != 'Joplin']"
      ],
      "execution_count": null,
      "outputs": []
    },
    {
      "cell_type": "code",
      "metadata": {
        "id": "jjIRliNc-zPb"
      },
      "source": [
        "def pngloop(geodf, popdf, df):\n",
        "  \"\"\" Takes the previously generated geodataframe, population dataframe and covid dataframe to generate map images for each date\n",
        "  \"\"\"\n",
        "  \n",
        "  datelist = df.date.unique()\n",
        "  totalitems = len(datelist)\n",
        "  for count, specificday in enumerate(datelist):\n",
        "    start = timer()\n",
        "\n",
        "    if 'cases' in geodf.columns:\n",
        "        geodf = geodf.drop(labels=['cases'],axis=1)\n",
        "    if 'nowcases' in geodf.columns:\n",
        "        geodf = geodf.drop(labels=['nowcases'],axis=1)\n",
        "\n",
        "    day_series = df[df['date'] == specificday]\n",
        "    day_series = day_series.rename(columns={'cases' : \"nowcases\"}).drop(labels=['state', 'deaths'],axis=1)\n",
        "\n",
        "    newdf_test = pd.merge(geodf, day_series, on=\"fips\").fillna(0)\n",
        "    newdf = pd.merge(newdf_test, popdf, on=\"fips\")\n",
        "    newdf['casesperpop'] = newdf['nowcases']*100/newdf['POPESTIMATE2015']\n",
        "\n",
        "    save_map_img(newdf, specificday, 'casesperpop')\n",
        "    \n",
        "    end = timer()\n",
        "    pctcomplete = (count/totalitems)*100\n",
        "    clear_output() #os.system('cls')\n",
        "    print(f\"{round(pctcomplete, 2)}% - Saved Map for {specificday}, in {round(end - start, 2)}s\")\n",
        "\n",
        "  print(\"All PNG Files Complete\")"
      ],
      "execution_count": null,
      "outputs": []
    },
    {
      "cell_type": "markdown",
      "metadata": {
        "id": "bN8sDqEL9mhs"
      },
      "source": [
        "## Standardize Image Dimensions"
      ]
    },
    {
      "cell_type": "code",
      "metadata": {
        "id": "RgAwKq_n9of-"
      },
      "source": [
        "def resize():\r\n",
        "  \"\"\" Requires files to be in the relevant folder, resizes all images to standardized dimensions\r\n",
        "  \"\"\"\r\n",
        "  \r\n",
        "  f = '/content/mappng'\r\n",
        "\r\n",
        "  imgs = os.listdir(f)\r\n",
        "  numfiles = len(imgs)\r\n",
        "  heightlist = []\r\n",
        "\r\n",
        "  for file in imgs:\r\n",
        "    f_img = f+\"/\"+file\r\n",
        "    img = Image.open(f_img)\r\n",
        "    w, h = img.size\r\n",
        "    heightlist.append(h)\r\n",
        "\r\n",
        "  h = max(heightlist)\r\n",
        "\r\n",
        "  for count, file in enumerate(imgs):\r\n",
        "      f_img = f+\"/\"+file\r\n",
        "      img = Image.open(f_img)\r\n",
        "      img = img.resize((w,h))\r\n",
        "      img.save(f_img)\r\n",
        "      clear_output() #os.system('cls')\r\n",
        "      print(f\"Resized {count}/{numfiles} - {file}\")\r\n",
        "  print(\"All PNG Files Resized!\")"
      ],
      "execution_count": null,
      "outputs": []
    },
    {
      "cell_type": "markdown",
      "metadata": {
        "id": "0_1D2IkVVfbq"
      },
      "source": [
        "## GIF MAKING"
      ]
    },
    {
      "cell_type": "code",
      "metadata": {
        "id": "7oBcBjw3VgkO"
      },
      "source": [
        "def toGIF(gifframe):\r\n",
        "  \"\"\" Writes .gif from all .png files in relevant folder\r\n",
        "  Args:\r\n",
        "    gifframe: taken from main(gif) parameter, determines the duration of frames in .gif\r\n",
        "  \"\"\"\r\n",
        "\r\n",
        "  #dir_path = os.path.dirname(os.path.realpath(__file__))\r\n",
        "\r\n",
        "  foldername = \"mappng\"\r\n",
        "\r\n",
        "  #mapfolder = os.path.join(dir_path, foldername)\r\n",
        "\r\n",
        "  mapfolder = '/content/mappng'\r\n",
        "\r\n",
        "  onlyfiles = [f for f in sorted(os.listdir(mapfolder)) if os.path.isfile(os.path.join(mapfolder, f))]\r\n",
        "\r\n",
        "  # with frames as gifframe\r\n",
        "  with imageio.get_writer('movie.gif', mode='I', duration=gifframe) as writer:\r\n",
        "      for filename in onlyfiles:\r\n",
        "          image = imageio.imread(os.path.join(foldername,filename))\r\n",
        "          writer.append_data(image)\r\n",
        "          clear_output() #os.system('cls')\r\n",
        "          print(f'Stiched {filename}')\r\n",
        "      print(\"GIF Stitched Successfully\")"
      ],
      "execution_count": null,
      "outputs": []
    },
    {
      "cell_type": "markdown",
      "metadata": {
        "id": "RlNUVZMtsp5Y"
      },
      "source": [
        "## Main Function"
      ]
    },
    {
      "cell_type": "code",
      "metadata": {
        "id": "zUVIao_JpP2n"
      },
      "source": [
        "sfurl = \"https://www2.census.gov/geo/tiger/GENZ2018/shp/cb_2018_us_county_5m.zip\"\r\n",
        "censuscsv = 'https://www2.census.gov/programs-surveys/popest/datasets/2010-2019/counties/totals/co-est2019-alldata.csv'\r\n",
        "covidcsv = 'https://raw.githubusercontent.com/nytimes/covid-19-data/master/us-counties.csv'"
      ],
      "execution_count": null,
      "outputs": []
    },
    {
      "cell_type": "code",
      "metadata": {
        "id": "5tDzQD8xsrXO"
      },
      "source": [
        "def main(sub=1, rate=True, rsz=True, zip=False, gif=0.1, opt=False):\r\n",
        "  \"\"\" Launches script and ultimately creates .gif with specified parameters\r\n",
        "  Args:\r\n",
        "    sub: subdivision to use; either:\r\n",
        "      0: states\r\n",
        "      1: counties (default)\r\n",
        "      any other value: returns error message\r\n",
        "    rate: whether to visualize the metric by rate (eg. cases per 100,000 population) or not (raw case numebrs)\r\n",
        "      True (default)\r\n",
        "      False\r\n",
        "    resize: whether to resize the images to a standard dimension or not; either:\r\n",
        "      True (default)\r\n",
        "      False\r\n",
        "    zip: whether to create a .zip directory including all the .png files;  either:\r\n",
        "      True\r\n",
        "      False (default)\r\n",
        "    gif: whether or not to create a gif from .png files; either:\r\n",
        "      0 (means no gif will be created)\r\n",
        "      > 0 (default = 0.1); value determines seconds per frame of gif\r\n",
        "    opt: whether or not to optimize the .gif, creating a smaller file but sacrificing image quality or colour gradiation; either:\r\n",
        "      True\r\n",
        "      False (default)\r\n",
        "  \"\"\"\r\n",
        "\r\n",
        "  if sub == 1:\r\n",
        "    sfurl = \"https://www2.census.gov/geo/tiger/GENZ2018/shp/cb_2018_us_county_5m.zip\"\r\n",
        "    if rate:\r\n",
        "      censuscsv = 'https://www2.census.gov/programs-surveys/popest/datasets/2010-2019/counties/totals/co-est2019-alldata.csv'\r\n",
        "    covidcsv = 'https://raw.githubusercontent.com/nytimes/covid-19-data/master/us-counties.csv'\r\n",
        "  elif sub == 0:\r\n",
        "    sfurl = \"https://www2.census.gov/geo/tiger/GENZ2018/shp/cb_2018_us_state_5m.zip\"\r\n",
        "    if rate:\r\n",
        "      censuscsv = 'https://www2.census.gov/programs-surveys/popest/datasets/2010-2019/state/detail/SCPRC-EST2019-18+POP-RES.csv'\r\n",
        "    covidcsv = 'https://raw.github.com/nytimes/covid-19-data/master/us-states.csv'\r\n",
        "  else:\r\n",
        "    return print(\"Please enter either a sub value of either 0 (states) or 1 (counties)\")\r\n",
        "\r\n",
        "  if rate:\r\n",
        "    pngloop(grabSF(sfurl), popCsvToDf(sub, censuscsv), covidDf(sub, covidcsv))\r\n",
        "  else:\r\n",
        "    pass #create viz without popcsv, raw data\r\n",
        "\r\n",
        "  if rsz:\r\n",
        "    resize()\r\n",
        "  if zip:\r\n",
        "    !zip -r /content/mappng.zip /content/mappng\r\n",
        "    from google.colab import files\r\n",
        "    files.download('mappng.zip')\r\n",
        "  if gif > 0:\r\n",
        "    toGIF(gif)\r\n",
        "    if opt:\r\n",
        "      print(\"Optimizing GIF...\")\r\n",
        "      optimize('/content/movie.gif')\r\n",
        "      print(\"GIF Optimized!\")"
      ],
      "execution_count": null,
      "outputs": []
    },
    {
      "cell_type": "code",
      "metadata": {
        "colab": {
          "base_uri": "https://localhost:8080/"
        },
        "id": "bFaLd8VushNc",
        "outputId": "6cf54f29-81c6-400e-8099-fe0dd78a342d"
      },
      "source": [
        "main()\r\n",
        "\r\n",
        "# checks:, sub state and rates for each"
      ],
      "execution_count": null,
      "outputs": [
        {
          "output_type": "stream",
          "text": [
            "Stiched 2021-01-17.png\n",
            "GIF Stitched Successfully\n"
          ],
          "name": "stdout"
        }
      ]
    },
    {
      "cell_type": "code",
      "metadata": {
        "id": "u2Sv7IAjPGqi"
      },
      "source": [
        ""
      ],
      "execution_count": null,
      "outputs": []
    }
  ]
}